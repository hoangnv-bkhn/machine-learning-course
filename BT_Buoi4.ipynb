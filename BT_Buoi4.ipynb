{
  "nbformat": 4,
  "nbformat_minor": 0,
  "metadata": {
    "colab": {
      "name": "BT_Buoi4.ipynb",
      "provenance": [],
      "collapsed_sections": [],
      "authorship_tag": "ABX9TyOtKGRO7aT9MHY/DedptTCG",
      "include_colab_link": true
    },
    "kernelspec": {
      "name": "python3",
      "display_name": "Python 3"
    }
  },
  "cells": [
    {
      "cell_type": "markdown",
      "metadata": {
        "id": "view-in-github",
        "colab_type": "text"
      },
      "source": [
        "<a href=\"https://colab.research.google.com/github/hoangnv-bkhn/machine-learning-course/blob/master/BT_Buoi4.ipynb\" target=\"_parent\"><img src=\"https://colab.research.google.com/assets/colab-badge.svg\" alt=\"Open In Colab\"/></a>"
      ]
    },
    {
      "cell_type": "code",
      "metadata": {
        "colab": {
          "base_uri": "https://localhost:8080/"
        },
        "id": "eJmuy9twzOhL",
        "outputId": "f37c65a7-80e2-4e27-c483-283283d637b5"
      },
      "source": [
        "# load our dataset\r\n",
        "from sklearn.datasets import load_iris\r\n",
        "data = load_iris()\r\n",
        "X, Y = data['data'], data['target']\r\n",
        "X.shape, Y.shape"
      ],
      "execution_count": 49,
      "outputs": [
        {
          "output_type": "execute_result",
          "data": {
            "text/plain": [
              "((150, 4), (150,))"
            ]
          },
          "metadata": {
            "tags": []
          },
          "execution_count": 49
        }
      ]
    },
    {
      "cell_type": "code",
      "metadata": {
        "colab": {
          "base_uri": "https://localhost:8080/"
        },
        "id": "jY1BY9CK0Swj",
        "outputId": "b7b3f5d9-082d-4c2c-e9fb-23ace9de55ae"
      },
      "source": [
        "# split our data into training and testing set with 90:10 ratio\r\n",
        "# use a fixed random state for reproducible results\r\n",
        "from sklearn.model_selection import train_test_split\r\n",
        "x_train, x_test, y_train, y_test = train_test_split(X, Y, test_size=0.1, random_state=42)\r\n",
        "x_train[:5,:]"
      ],
      "execution_count": 50,
      "outputs": [
        {
          "output_type": "execute_result",
          "data": {
            "text/plain": [
              "array([[6.3, 3.3, 4.7, 1.6],\n",
              "       [6.5, 3. , 5.8, 2.2],\n",
              "       [5.6, 2.5, 3.9, 1.1],\n",
              "       [5.7, 2.8, 4.5, 1.3],\n",
              "       [6.4, 2.8, 5.6, 2.2]])"
            ]
          },
          "metadata": {
            "tags": []
          },
          "execution_count": 50
        }
      ]
    },
    {
      "cell_type": "code",
      "metadata": {
        "colab": {
          "base_uri": "https://localhost:8080/"
        },
        "id": "Ltkxp7t03jGb",
        "outputId": "ee6f8a32-a29c-469b-de75-855fa01c60bc"
      },
      "source": [
        "# z-score normalization.\r\n",
        "# Remember to scale the training and test set separately to avoid data snooping.\r\n",
        "# We use the training set's mu and sigma for the test set.\r\n",
        "from sklearn.preprocessing import StandardScaler\r\n",
        "scaler = StandardScaler()\r\n",
        "scaler.fit(x_train)\r\n",
        "x_train = scaler.transform(x_train)\r\n",
        "x_test = scaler.transform(x_test)\r\n",
        "x_train[:5,:]"
      ],
      "execution_count": 51,
      "outputs": [
        {
          "output_type": "execute_result",
          "data": {
            "text/plain": [
              "array([[ 0.56195149,  0.55613693,  0.51790028,  0.51008192],\n",
              "       [ 0.80278784, -0.13265651,  1.14418849,  1.30158834],\n",
              "       [-0.28097574, -1.28064558,  0.06241795, -0.14950677],\n",
              "       [-0.16055757, -0.59185214,  0.4040297 ,  0.11432871],\n",
              "       [ 0.68236966, -0.59185214,  1.03031791,  1.30158834]])"
            ]
          },
          "metadata": {
            "tags": []
          },
          "execution_count": 51
        }
      ]
    },
    {
      "cell_type": "code",
      "metadata": {
        "id": "l1RMQec0E_GP"
      },
      "source": [
        "import numpy as np\r\n",
        "from collections import Counter\r\n",
        "# Remember, no training is needed for KNN!\r\n",
        "def evaluateKNN_single(k, x_train, y_train, data):\r\n",
        "    '''\r\n",
        "    Evaluate the classification for `data` with k-nearest neighbor\r\n",
        "    given training set (x_train, y_train).\r\n",
        "\r\n",
        "    Note that this function takes in one input instead of the whole\r\n",
        "    testing set.\r\n",
        "    \r\n",
        "    Input:\r\n",
        "        k      : hyperparameter for KNN\r\n",
        "        x_train: features of training set\r\n",
        "        y_train: labels of training set\r\n",
        "        data   : features of the data point to be evaluated\r\n",
        "    Output:\r\n",
        "        Classification of the input data point.\r\n",
        "    '''\r\n",
        "    k_nearest = np.argpartition(np.linalg.norm(x_train-data, axis=1), k)[:k]\r\n",
        "    return Counter(y_train[k_nearest]).most_common(1)[0][0]"
      ],
      "execution_count": 52,
      "outputs": []
    },
    {
      "cell_type": "code",
      "metadata": {
        "id": "_vvxQ_7-MIh9"
      },
      "source": [
        "# Evaluation code for the whole dataset\r\n",
        "def evaluateKNN(k, x_train=x_train, y_train=y_train, x_test=x_test, y_test=y_test):\r\n",
        "    correct = sum(map(lambda x: evaluateKNN_single(k, x_train, y_train, x[0]) == x[1], zip(x_test, y_test)))\r\n",
        "    print(f'Test accuracy with k={k}: {correct/len(y_test)*100:.4f}% ({correct}/{len(y_test)})')\r\n",
        "    # return the number of correct evaluations for us to check with the solution\r\n",
        "    return correct"
      ],
      "execution_count": 53,
      "outputs": []
    },
    {
      "cell_type": "code",
      "metadata": {
        "colab": {
          "base_uri": "https://localhost:8080/"
        },
        "id": "NFtAqAN3MUp_",
        "outputId": "94be26f2-64e6-4eb7-b117-3b1034d18c7a"
      },
      "source": [
        "# and let's see how good is our model with k=5\r\n",
        "assert evaluateKNN(5) == len(y_test), \"Incorrect accuracy for 5-NN!\""
      ],
      "execution_count": 54,
      "outputs": [
        {
          "output_type": "stream",
          "text": [
            "Test accuracy with k=5: 100.0000% (15/15)\n"
          ],
          "name": "stdout"
        }
      ]
    },
    {
      "cell_type": "code",
      "metadata": {
        "colab": {
          "base_uri": "https://localhost:8080/"
        },
        "id": "jdnDL6giMxuF",
        "outputId": "5ede0ed5-189d-40b4-ee3e-c31164318672"
      },
      "source": [
        "# What if we use 1-NN?\r\n",
        "assert evaluateKNN(1) == len(y_test) - 1, \"Incorrect accuracy for 1-NN!\""
      ],
      "execution_count": 55,
      "outputs": [
        {
          "output_type": "stream",
          "text": [
            "Test accuracy with k=1: 93.3333% (14/15)\n"
          ],
          "name": "stdout"
        }
      ]
    },
    {
      "cell_type": "code",
      "metadata": {
        "id": "zm9xyyILNSQL"
      },
      "source": [
        "def get_cluster_classification(x_data, centroids):\r\n",
        "    '''\r\n",
        "    A helper function that you will need later.\r\n",
        "    Classifies the points to their nearest cluster.\r\n",
        "    \r\n",
        "    Input:\r\n",
        "        x_data   : the data points\r\n",
        "        centroids: the cluster centroids\r\n",
        "    Output:\r\n",
        "        The centroid numbers that each data point belongs to (i.e. is nearest)\r\n",
        "    '''\r\n",
        "    clusters = np.array([np.argmin(np.linalg.norm(centroids- data_point, axis=1)) for data_point in x_data])\r\n",
        "    return clusters"
      ],
      "execution_count": 56,
      "outputs": []
    },
    {
      "cell_type": "code",
      "metadata": {
        "id": "-iRebbN3PwgI"
      },
      "source": [
        "def kmeans(x_train, k, step, centroids = None):\r\n",
        "    '''\r\n",
        "    An implementation of K-means clustering.\r\n",
        "    \r\n",
        "    Input:\r\n",
        "        k      : number of clusters\r\n",
        "        x_train: training dataset\r\n",
        "        step   : number of recaliberation steps\r\n",
        "    Output:\r\n",
        "        The centroids of the clusters (a k x d matrix)\r\n",
        "    '''\r\n",
        "    if type(centroids) == type(None):\r\n",
        "      centroids = x_train[:k]\r\n",
        "    for _ in range(step):\r\n",
        "      clusters = get_cluster_classification(x_train,centroids)\r\n",
        "      new_centroids = np.array([np.mean(x_train[clusters == i], axis = 0) for i in range(k)])\r\n",
        "      if np.allclose(new_centroids, centroids): break\r\n",
        "      centroids = new_centroids\r\n",
        "    return centroids"
      ],
      "execution_count": 57,
      "outputs": []
    },
    {
      "cell_type": "code",
      "metadata": {
        "colab": {
          "base_uri": "https://localhost:8080/"
        },
        "id": "ACcBQ6c3a-aV",
        "outputId": "7c8463a5-1a88-440b-a8ea-be67fac8b902"
      },
      "source": [
        "centroids"
      ],
      "execution_count": 58,
      "outputs": [
        {
          "output_type": "execute_result",
          "data": {
            "text/plain": [
              "array([[-1.02028733,  0.90854287, -1.32521428, -1.27540932],\n",
              "       [ 0.99363929,  0.01896468,  0.90355632,  0.92076921],\n",
              "       [-0.22539812, -1.02749927,  0.23322382,  0.15491878]])"
            ]
          },
          "metadata": {
            "tags": []
          },
          "execution_count": 58
        }
      ]
    },
    {
      "cell_type": "code",
      "metadata": {
        "id": "TPxDobMwR8NN"
      },
      "source": [
        "# we know that there are three classes\r\n",
        "centroids = kmeans(x_train, k=3, step=10)\r\n",
        "assert np.allclose(centroids, np.array([\r\n",
        "    [-1.02028733,  0.90854287, -1.32521428, -1.27540932],\r\n",
        "    [ 0.99363929,  0.01896468,  0.90355632,  0.92076921],\r\n",
        "    [-0.22539812, -1.02749927,  0.23322382,  0.15491878]\r\n",
        "])), \"Incorrect centroids for K-means!\""
      ],
      "execution_count": 59,
      "outputs": []
    },
    {
      "cell_type": "code",
      "metadata": {
        "id": "OqYHsRmISpC6"
      },
      "source": [
        "def kmeanspp(x_train, k, step):\r\n",
        "    '''\r\n",
        "    An implementation of K-means++ clustering.\r\n",
        "    \r\n",
        "    Input:\r\n",
        "        k      : number of clusters\r\n",
        "        x_train: training dataset\r\n",
        "        step   : number of recaliberation steps\r\n",
        "    Output:\r\n",
        "        The centroids of the clusters (a k x d matrix)\r\n",
        "    '''\r\n",
        "    # initialize the centroids according to the above criteria\r\n",
        "    \r\n",
        "    # IMPLEMENT HERE\r\n",
        "    \r\n",
        "    init_centroid = [x_train[3]]\r\n",
        "    for _ in range(1,k):\r\n",
        "      init_centroid.append(x_train[np.argsort(np.linalg.norm(x_train-init_centroid[-1], axis = 1))[-4]])\r\n",
        "    centroids = np.array(init_centroid)\r\n",
        "    # the rest should be identical to kmeans()\r\n",
        "    \r\n",
        "    # IMPLEMENT HERE\r\n",
        "    return kmeans(x_train,k,step,centroids)"
      ],
      "execution_count": 60,
      "outputs": []
    },
    {
      "cell_type": "code",
      "metadata": {
        "colab": {
          "base_uri": "https://localhost:8080/"
        },
        "id": "ojBgRQ1JbCOd",
        "outputId": "40c670e7-7d06-4d94-fd25-14ec93f0ec08"
      },
      "source": [
        "centroidspp"
      ],
      "execution_count": 61,
      "outputs": [
        {
          "output_type": "execute_result",
          "data": {
            "text/plain": [
              "array([[-0.0118057 , -0.87997489,  0.36942197,  0.30573876],\n",
              "       [ 1.15200055,  0.18878042,  0.98903982,  1.01136932],\n",
              "       [-1.03358934,  0.84835232, -1.32732076, -1.27380566]])"
            ]
          },
          "metadata": {
            "tags": []
          },
          "execution_count": 61
        }
      ]
    },
    {
      "cell_type": "code",
      "metadata": {
        "id": "cUn9PP-wYgAi"
      },
      "source": [
        "# now check if you did it correctly.\r\n",
        "centroidspp = kmeanspp(x_train, k=3, step=10)\r\n",
        "assert np.allclose(centroidspp, np.array([\r\n",
        "    [-0.0118057 , -0.87997489,  0.36942197,  0.30573876],\r\n",
        "    [ 1.15200055,  0.18878042,  0.98903982,  1.01136932],\r\n",
        "    [-1.03358934,  0.84835232, -1.32732076, -1.27380566]\r\n",
        "])), \"Incorrect centroids for K-means++!\""
      ],
      "execution_count": 62,
      "outputs": []
    }
  ]
}